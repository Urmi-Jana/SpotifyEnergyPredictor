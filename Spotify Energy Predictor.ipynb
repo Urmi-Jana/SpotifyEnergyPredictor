{
 "cells": [
  {
   "cell_type": "markdown",
   "id": "coated-operation",
   "metadata": {},
   "source": [
    "## Data Cleaning"
   ]
  },
  {
   "cell_type": "code",
   "execution_count": 1,
   "id": "established-ceramic",
   "metadata": {},
   "outputs": [],
   "source": [
    "import pandas as pd\n",
    "import numpy as np"
   ]
  },
  {
   "cell_type": "code",
   "execution_count": 2,
   "id": "decent-smooth",
   "metadata": {},
   "outputs": [
    {
     "data": {
      "text/html": [
       "<div>\n",
       "<style scoped>\n",
       "    .dataframe tbody tr th:only-of-type {\n",
       "        vertical-align: middle;\n",
       "    }\n",
       "\n",
       "    .dataframe tbody tr th {\n",
       "        vertical-align: top;\n",
       "    }\n",
       "\n",
       "    .dataframe thead th {\n",
       "        text-align: right;\n",
       "    }\n",
       "</style>\n",
       "<table border=\"1\" class=\"dataframe\">\n",
       "  <thead>\n",
       "    <tr style=\"text-align: right;\">\n",
       "      <th></th>\n",
       "      <th>genre</th>\n",
       "      <th>artist_name</th>\n",
       "      <th>track_name</th>\n",
       "      <th>track_id</th>\n",
       "      <th>popularity</th>\n",
       "      <th>acousticness</th>\n",
       "      <th>danceability</th>\n",
       "      <th>duration_ms</th>\n",
       "      <th>energy</th>\n",
       "      <th>instrumentalness</th>\n",
       "      <th>key</th>\n",
       "      <th>liveness</th>\n",
       "      <th>loudness</th>\n",
       "      <th>mode</th>\n",
       "      <th>speechiness</th>\n",
       "      <th>tempo</th>\n",
       "      <th>time_signature</th>\n",
       "      <th>valence</th>\n",
       "    </tr>\n",
       "  </thead>\n",
       "  <tbody>\n",
       "    <tr>\n",
       "      <th>0</th>\n",
       "      <td>Movie</td>\n",
       "      <td>Henri Salvador</td>\n",
       "      <td>C'est beau de faire un Show</td>\n",
       "      <td>0BRjO6ga9RKCKjfDqeFgWV</td>\n",
       "      <td>0</td>\n",
       "      <td>0.611</td>\n",
       "      <td>0.389</td>\n",
       "      <td>99373</td>\n",
       "      <td>0.910</td>\n",
       "      <td>0.000</td>\n",
       "      <td>C#</td>\n",
       "      <td>0.3460</td>\n",
       "      <td>-1.828</td>\n",
       "      <td>Major</td>\n",
       "      <td>0.0525</td>\n",
       "      <td>166.969</td>\n",
       "      <td>04-Apr</td>\n",
       "      <td>0.814</td>\n",
       "    </tr>\n",
       "    <tr>\n",
       "      <th>1</th>\n",
       "      <td>Movie</td>\n",
       "      <td>Martin &amp; les f�es</td>\n",
       "      <td>Perdu d'avance (par Gad Elmaleh)</td>\n",
       "      <td>0BjC1NfoEOOusryehmNudP</td>\n",
       "      <td>1</td>\n",
       "      <td>0.246</td>\n",
       "      <td>0.590</td>\n",
       "      <td>137373</td>\n",
       "      <td>0.737</td>\n",
       "      <td>0.000</td>\n",
       "      <td>F#</td>\n",
       "      <td>0.1510</td>\n",
       "      <td>-5.559</td>\n",
       "      <td>Minor</td>\n",
       "      <td>0.0868</td>\n",
       "      <td>174.003</td>\n",
       "      <td>04-Apr</td>\n",
       "      <td>0.816</td>\n",
       "    </tr>\n",
       "    <tr>\n",
       "      <th>2</th>\n",
       "      <td>Movie</td>\n",
       "      <td>Joseph Williams</td>\n",
       "      <td>Don't Let Me Be Lonely Tonight</td>\n",
       "      <td>0CoSDzoNIKCRs124s9uTVy</td>\n",
       "      <td>3</td>\n",
       "      <td>0.952</td>\n",
       "      <td>0.663</td>\n",
       "      <td>170267</td>\n",
       "      <td>0.131</td>\n",
       "      <td>0.000</td>\n",
       "      <td>C</td>\n",
       "      <td>0.1030</td>\n",
       "      <td>-13.879</td>\n",
       "      <td>Minor</td>\n",
       "      <td>0.0362</td>\n",
       "      <td>99.488</td>\n",
       "      <td>05-Apr</td>\n",
       "      <td>0.368</td>\n",
       "    </tr>\n",
       "    <tr>\n",
       "      <th>3</th>\n",
       "      <td>Movie</td>\n",
       "      <td>Henri Salvador</td>\n",
       "      <td>Dis-moi Monsieur Gordon Cooper</td>\n",
       "      <td>0Gc6TVm52BwZD07Ki6tIvf</td>\n",
       "      <td>0</td>\n",
       "      <td>0.703</td>\n",
       "      <td>0.240</td>\n",
       "      <td>152427</td>\n",
       "      <td>0.326</td>\n",
       "      <td>0.000</td>\n",
       "      <td>C#</td>\n",
       "      <td>0.0985</td>\n",
       "      <td>-12.178</td>\n",
       "      <td>Major</td>\n",
       "      <td>0.0395</td>\n",
       "      <td>171.758</td>\n",
       "      <td>04-Apr</td>\n",
       "      <td>0.227</td>\n",
       "    </tr>\n",
       "    <tr>\n",
       "      <th>4</th>\n",
       "      <td>Movie</td>\n",
       "      <td>Fabien Nataf</td>\n",
       "      <td>Ouverture</td>\n",
       "      <td>0IuslXpMROHdEPvSl1fTQK</td>\n",
       "      <td>4</td>\n",
       "      <td>0.950</td>\n",
       "      <td>0.331</td>\n",
       "      <td>82625</td>\n",
       "      <td>0.225</td>\n",
       "      <td>0.123</td>\n",
       "      <td>F</td>\n",
       "      <td>0.2020</td>\n",
       "      <td>-21.150</td>\n",
       "      <td>Major</td>\n",
       "      <td>0.0456</td>\n",
       "      <td>140.576</td>\n",
       "      <td>04-Apr</td>\n",
       "      <td>0.390</td>\n",
       "    </tr>\n",
       "  </tbody>\n",
       "</table>\n",
       "</div>"
      ],
      "text/plain": [
       "   genre        artist_name                        track_name  \\\n",
       "0  Movie     Henri Salvador       C'est beau de faire un Show   \n",
       "1  Movie  Martin & les f�es  Perdu d'avance (par Gad Elmaleh)   \n",
       "2  Movie    Joseph Williams    Don't Let Me Be Lonely Tonight   \n",
       "3  Movie     Henri Salvador    Dis-moi Monsieur Gordon Cooper   \n",
       "4  Movie       Fabien Nataf                         Ouverture   \n",
       "\n",
       "                 track_id  popularity  acousticness  danceability  \\\n",
       "0  0BRjO6ga9RKCKjfDqeFgWV           0         0.611         0.389   \n",
       "1  0BjC1NfoEOOusryehmNudP           1         0.246         0.590   \n",
       "2  0CoSDzoNIKCRs124s9uTVy           3         0.952         0.663   \n",
       "3  0Gc6TVm52BwZD07Ki6tIvf           0         0.703         0.240   \n",
       "4  0IuslXpMROHdEPvSl1fTQK           4         0.950         0.331   \n",
       "\n",
       "   duration_ms  energy  instrumentalness key  liveness  loudness   mode  \\\n",
       "0        99373   0.910             0.000  C#    0.3460    -1.828  Major   \n",
       "1       137373   0.737             0.000  F#    0.1510    -5.559  Minor   \n",
       "2       170267   0.131             0.000   C    0.1030   -13.879  Minor   \n",
       "3       152427   0.326             0.000  C#    0.0985   -12.178  Major   \n",
       "4        82625   0.225             0.123   F    0.2020   -21.150  Major   \n",
       "\n",
       "   speechiness    tempo time_signature  valence  \n",
       "0       0.0525  166.969         04-Apr    0.814  \n",
       "1       0.0868  174.003         04-Apr    0.816  \n",
       "2       0.0362   99.488         05-Apr    0.368  \n",
       "3       0.0395  171.758         04-Apr    0.227  \n",
       "4       0.0456  140.576         04-Apr    0.390  "
      ]
     },
     "execution_count": 2,
     "metadata": {},
     "output_type": "execute_result"
    }
   ],
   "source": [
    "data = pd.read_csv('spotify_data.csv')\n",
    "data.head()"
   ]
  },
  {
   "cell_type": "code",
   "execution_count": 3,
   "id": "treated-choir",
   "metadata": {},
   "outputs": [
    {
     "data": {
      "text/html": [
       "<div>\n",
       "<style scoped>\n",
       "    .dataframe tbody tr th:only-of-type {\n",
       "        vertical-align: middle;\n",
       "    }\n",
       "\n",
       "    .dataframe tbody tr th {\n",
       "        vertical-align: top;\n",
       "    }\n",
       "\n",
       "    .dataframe thead th {\n",
       "        text-align: right;\n",
       "    }\n",
       "</style>\n",
       "<table border=\"1\" class=\"dataframe\">\n",
       "  <thead>\n",
       "    <tr style=\"text-align: right;\">\n",
       "      <th></th>\n",
       "      <th>genre</th>\n",
       "      <th>track_name</th>\n",
       "      <th>track_id</th>\n",
       "      <th>popularity</th>\n",
       "      <th>acousticness</th>\n",
       "      <th>danceability</th>\n",
       "      <th>duration_ms</th>\n",
       "      <th>energy</th>\n",
       "      <th>instrumentalness</th>\n",
       "      <th>key</th>\n",
       "      <th>liveness</th>\n",
       "      <th>loudness</th>\n",
       "      <th>mode</th>\n",
       "      <th>speechiness</th>\n",
       "      <th>tempo</th>\n",
       "      <th>time_signature</th>\n",
       "      <th>valence</th>\n",
       "    </tr>\n",
       "  </thead>\n",
       "  <tbody>\n",
       "    <tr>\n",
       "      <th>135</th>\n",
       "      <td>R&amp;B</td>\n",
       "      <td>Be Without You - Kendu Mix</td>\n",
       "      <td>2YegxR5As7BeQuVp2U6pek</td>\n",
       "      <td>65</td>\n",
       "      <td>0.0830</td>\n",
       "      <td>0.724</td>\n",
       "      <td>246333</td>\n",
       "      <td>0.689</td>\n",
       "      <td>0.000000</td>\n",
       "      <td>D</td>\n",
       "      <td>0.3040</td>\n",
       "      <td>-5.922</td>\n",
       "      <td>Minor</td>\n",
       "      <td>0.1350</td>\n",
       "      <td>146.496</td>\n",
       "      <td>04-Apr</td>\n",
       "      <td>0.6930</td>\n",
       "    </tr>\n",
       "    <tr>\n",
       "      <th>136</th>\n",
       "      <td>R&amp;B</td>\n",
       "      <td>Desperado</td>\n",
       "      <td>6KFaHC9G178beAp7P0Vi5S</td>\n",
       "      <td>63</td>\n",
       "      <td>0.3230</td>\n",
       "      <td>0.685</td>\n",
       "      <td>186467</td>\n",
       "      <td>0.610</td>\n",
       "      <td>0.000000</td>\n",
       "      <td>C</td>\n",
       "      <td>0.1020</td>\n",
       "      <td>-5.221</td>\n",
       "      <td>Minor</td>\n",
       "      <td>0.0439</td>\n",
       "      <td>94.384</td>\n",
       "      <td>03-Apr</td>\n",
       "      <td>0.3230</td>\n",
       "    </tr>\n",
       "    <tr>\n",
       "      <th>137</th>\n",
       "      <td>R&amp;B</td>\n",
       "      <td>Ice On My Baby (feat. Kevin Gates) - Remix</td>\n",
       "      <td>6muW8cSjJ3rusKJ0vH5olw</td>\n",
       "      <td>62</td>\n",
       "      <td>0.0675</td>\n",
       "      <td>0.762</td>\n",
       "      <td>199520</td>\n",
       "      <td>0.520</td>\n",
       "      <td>0.000004</td>\n",
       "      <td>F</td>\n",
       "      <td>0.1140</td>\n",
       "      <td>-5.237</td>\n",
       "      <td>Minor</td>\n",
       "      <td>0.0959</td>\n",
       "      <td>75.047</td>\n",
       "      <td>04-Apr</td>\n",
       "      <td>0.0862</td>\n",
       "    </tr>\n",
       "    <tr>\n",
       "      <th>138</th>\n",
       "      <td>R&amp;B</td>\n",
       "      <td>Heaven Falls / Fall on Me</td>\n",
       "      <td>7yHqOZfsXYlicyoMt62yC6</td>\n",
       "      <td>61</td>\n",
       "      <td>0.3600</td>\n",
       "      <td>0.563</td>\n",
       "      <td>240597</td>\n",
       "      <td>0.366</td>\n",
       "      <td>0.002430</td>\n",
       "      <td>B</td>\n",
       "      <td>0.0955</td>\n",
       "      <td>-6.896</td>\n",
       "      <td>Minor</td>\n",
       "      <td>0.1210</td>\n",
       "      <td>85.352</td>\n",
       "      <td>04-Apr</td>\n",
       "      <td>0.7680</td>\n",
       "    </tr>\n",
       "    <tr>\n",
       "      <th>139</th>\n",
       "      <td>R&amp;B</td>\n",
       "      <td>Love Myself</td>\n",
       "      <td>4XzgjxGKqULifVf7mnDIQK</td>\n",
       "      <td>68</td>\n",
       "      <td>0.5960</td>\n",
       "      <td>0.653</td>\n",
       "      <td>213947</td>\n",
       "      <td>0.621</td>\n",
       "      <td>0.000000</td>\n",
       "      <td>B</td>\n",
       "      <td>0.0811</td>\n",
       "      <td>-5.721</td>\n",
       "      <td>Minor</td>\n",
       "      <td>0.0409</td>\n",
       "      <td>100.006</td>\n",
       "      <td>04-Apr</td>\n",
       "      <td>0.4660</td>\n",
       "    </tr>\n",
       "  </tbody>\n",
       "</table>\n",
       "</div>"
      ],
      "text/plain": [
       "    genre                                  track_name                track_id  \\\n",
       "135   R&B                  Be Without You - Kendu Mix  2YegxR5As7BeQuVp2U6pek   \n",
       "136   R&B                                   Desperado  6KFaHC9G178beAp7P0Vi5S   \n",
       "137   R&B  Ice On My Baby (feat. Kevin Gates) - Remix  6muW8cSjJ3rusKJ0vH5olw   \n",
       "138   R&B                   Heaven Falls / Fall on Me  7yHqOZfsXYlicyoMt62yC6   \n",
       "139   R&B                                 Love Myself  4XzgjxGKqULifVf7mnDIQK   \n",
       "\n",
       "     popularity  acousticness  danceability  duration_ms  energy  \\\n",
       "135          65        0.0830         0.724       246333   0.689   \n",
       "136          63        0.3230         0.685       186467   0.610   \n",
       "137          62        0.0675         0.762       199520   0.520   \n",
       "138          61        0.3600         0.563       240597   0.366   \n",
       "139          68        0.5960         0.653       213947   0.621   \n",
       "\n",
       "     instrumentalness key  liveness  loudness   mode  speechiness    tempo  \\\n",
       "135          0.000000   D    0.3040    -5.922  Minor       0.1350  146.496   \n",
       "136          0.000000   C    0.1020    -5.221  Minor       0.0439   94.384   \n",
       "137          0.000004   F    0.1140    -5.237  Minor       0.0959   75.047   \n",
       "138          0.002430   B    0.0955    -6.896  Minor       0.1210   85.352   \n",
       "139          0.000000   B    0.0811    -5.721  Minor       0.0409  100.006   \n",
       "\n",
       "    time_signature  valence  \n",
       "135         04-Apr   0.6930  \n",
       "136         03-Apr   0.3230  \n",
       "137         04-Apr   0.0862  \n",
       "138         04-Apr   0.7680  \n",
       "139         04-Apr   0.4660  "
      ]
     },
     "execution_count": 3,
     "metadata": {},
     "output_type": "execute_result"
    }
   ],
   "source": [
    "fulldata = data  # keeping the raw data\n",
    "\n",
    "#removing the unwanted genres and dropping artist name\n",
    "data = data[data['genre'] != 'Movie']\n",
    "data = data[data['genre'] != 'Soundtrack']\n",
    "data = data[data['genre'] != 'Comedy']\n",
    "data = data.drop('artist_name', axis = 1)\n",
    "data.head()"
   ]
  },
  {
   "cell_type": "markdown",
   "id": "alien-baseline",
   "metadata": {},
   "source": [
    "## Data Visualisation"
   ]
  },
  {
   "cell_type": "markdown",
   "id": "attractive-intro",
   "metadata": {},
   "source": [
    "#### Genre Distribution"
   ]
  },
  {
   "cell_type": "code",
   "execution_count": 4,
   "id": "welsh-exemption",
   "metadata": {},
   "outputs": [
    {
     "data": {
      "text/plain": [
       "[('Indie', 9543),\n",
       " ('Jazz', 9441),\n",
       " ('Pop', 9386),\n",
       " ('Electronic', 9377),\n",
       " ('Children�s Music', 9353),\n",
       " ('Folk', 9299),\n",
       " ('Hip-Hop', 9295),\n",
       " ('Rock', 9272),\n",
       " ('Alternative', 9263),\n",
       " ('Classical', 9256),\n",
       " ('Rap', 9232),\n",
       " ('World', 9096),\n",
       " ('Soul', 9089),\n",
       " ('Blues', 9023),\n",
       " ('R&B', 8992),\n",
       " ('Anime', 8936),\n",
       " ('Reggaeton', 8927),\n",
       " ('Ska', 8874),\n",
       " ('Reggae', 8771),\n",
       " ('Dance', 8701),\n",
       " ('Country', 8664),\n",
       " ('Opera', 8280),\n",
       " (\"Children's Music\", 5403),\n",
       " ('A Capella', 119)]"
      ]
     },
     "execution_count": 4,
     "metadata": {},
     "output_type": "execute_result"
    }
   ],
   "source": [
    "from collections import Counter\n",
    "target = list(data['genre'])\n",
    "countGenre = Counter(target)  # creates a dict for each genre and counts them\n",
    "countGenre.most_common() ## presents it in tuple format in a list"
   ]
  },
  {
   "cell_type": "markdown",
   "id": "northern-situation",
   "metadata": {},
   "source": [
    "#### Energy metrics (each track is assigned a value from 0.0 to 1.0)"
   ]
  },
  {
   "cell_type": "code",
   "execution_count": 5,
   "id": "thermal-seller",
   "metadata": {},
   "outputs": [
    {
     "name": "stdout",
     "output_type": "stream",
     "text": [
      "Median energy score 0.624\n",
      "Mean energy score 0.5900245501395969\n",
      "Top 10 energy scores with their frequency\n",
      "[(0.721, 386), (0.72, 371), (0.675, 370), (0.686, 364), (0.738, 361), (0.714, 351), (0.843, 350), (0.691, 349), (0.728, 346), (0.727, 345)]\n"
     ]
    }
   ],
   "source": [
    "from collections import Counter\n",
    "import statistics\n",
    "\n",
    "target = list(data['energy']) ##extracts the target variable\n",
    "target.sort()\n",
    "counterDict = Counter(target) #creates dictionary for each score\n",
    "commonScoresArray = counterDict.most_common()\n",
    "\n",
    "print('Median energy score', statistics.median(target))\n",
    "print('Mean energy score', statistics.mean(target))\n",
    "print('Top 10 energy scores with their frequency')\n",
    "print(commonScoresArray[0:10])"
   ]
  },
  {
   "cell_type": "markdown",
   "id": "coordinated-branch",
   "metadata": {},
   "source": [
    "#### plotting the distribution of energy across the data"
   ]
  },
  {
   "cell_type": "code",
   "execution_count": 6,
   "id": "inclusive-ordinance",
   "metadata": {},
   "outputs": [
    {
     "data": {
      "image/png": "[encoded data removed]",
      "text/plain": [
       "<Figure size 648x432 with 1 Axes>"
      ]
     },
     "metadata": {
      "needs_background": "light"
     },
     "output_type": "display_data"
    }
   ],
   "source": [
    "from matplotlib import pyplot as plt\n",
    "\n",
    "plt.figure(figsize = (9,6))\n",
    "\n",
    "plt.plot(list(counterDict.keys()), list(counterDict.values()))\n",
    "plt.title(\"No. of songs per energy Score\")\n",
    "plt.xlabel(\"Energy Scores\")\n",
    "plt.xticks(fontsize = 12)\n",
    "plt.ylabel(\"no. of songs\")\n",
    "plt.yticks(fontsize = 12)\n",
    "\n",
    "plt.show()"
   ]
  },
  {
   "cell_type": "markdown",
   "id": "sapphire-public",
   "metadata": {},
   "source": [
    "#### Remarks: The data looks pretty evenly distributed, with a large number of songs having 0.1 energy score and 1 energy score"
   ]
  },
  {
   "cell_type": "markdown",
   "id": "stupid-investing",
   "metadata": {},
   "source": [
    "## Feature Analysis"
   ]
  },
  {
   "cell_type": "markdown",
   "id": "seeing-sculpture",
   "metadata": {},
   "source": [
    "#### To find out which features affect the energy of a song the most."
   ]
  },
  {
   "cell_type": "markdown",
   "id": "widespread-throw",
   "metadata": {},
   "source": [
    "#### First approach: Draw a heat map to find the correlation between every category"
   ]
  },
  {
   "cell_type": "code",
   "execution_count": 7,
   "id": "civic-emperor",
   "metadata": {},
   "outputs": [
    {
     "data": {
      "image/png": "[encoded data removed]",
      "text/plain": [
       "<Figure size 792x648 with 2 Axes>"
      ]
     },
     "metadata": {
      "needs_background": "light"
     },
     "output_type": "display_data"
    }
   ],
   "source": [
    "import seaborn as sns\n",
    "\n",
    "plt.figure(figsize = (11,9))\n",
    "cor = data.corr()\n",
    "sns.heatmap(cor, annot = True)\n",
    "plt.show()"
   ]
  },
  {
   "cell_type": "markdown",
   "id": "narrative-asthma",
   "metadata": {},
   "source": [
    "#### Extract features that have the highest correlation to energy"
   ]
  },
  {
   "cell_type": "code",
   "execution_count": 8,
   "id": "eight-humanity",
   "metadata": {},
   "outputs": [
    {
     "data": {
      "text/plain": [
       "acousticness    0.773812\n",
       "energy          1.000000\n",
       "loudness        0.819734\n",
       "Name: energy, dtype: float64"
      ]
     },
     "execution_count": 8,
     "metadata": {},
     "output_type": "execute_result"
    }
   ],
   "source": [
    "## target variable\n",
    "corr_target = abs(cor['energy']) ## abs is done to find high correlation; both +ve and -ve\n",
    "rel_features = corr_target[corr_target >= 0.5] ## to find the related features\n",
    "rel_features"
   ]
  },
  {
   "cell_type": "markdown",
   "id": "regulated-incentive",
   "metadata": {},
   "source": [
    "#### Only the features with highest linear correlation are shown"
   ]
  },
  {
   "cell_type": "markdown",
   "id": "damaged-thousand",
   "metadata": {},
   "source": [
    "## Creating a Neural Net to predict the energy of a song"
   ]
  },
  {
   "cell_type": "markdown",
   "id": "verified-aquarium",
   "metadata": {},
   "source": [
    "#### 1. Functions that convert labels that are strings to one hot encodings. For example, if there were the genres rap, pop and jazz, they need to be converted to data that the network can understand. In one hot encoding, the single column of Genre is converted to columns (each for each genre label) such as is_Rap, is_Jazz and is_Pop. Each song is then assigned a value of 0 or 1 depending on its genre. "
   ]
  },
  {
   "cell_type": "code",
   "execution_count": 9,
   "id": "nasty-director",
   "metadata": {},
   "outputs": [],
   "source": [
    "# ## functions for one hot encoding of features\n",
    "\n",
    "# def label_encode(origList, labelList):\n",
    "#     coded_y = [] \n",
    "    \n",
    "#     for value in origList:\n",
    "#         coded_y.append(labelList.index(value))  ## storing the indices (in labelList) of the values of the origList\n",
    "#     return coded_y\n",
    "\n",
    "def encode_add(encode, category):\n",
    "    for i in range(len(category[0])):  ## category[0] is all the categories\n",
    "        column = []\n",
    "        \n",
    "        for array in encode:\n",
    "            column.append(array[i])  ## as encoded is an array of lists of 0,1 values for each category\n",
    "        data[category[0][i]] = column ## putting each column under their category in data so yea we're adding more columns in data, one for each category\n",
    "            "
   ]
  },
  {
   "cell_type": "code",
   "execution_count": 10,
   "id": "injured-investor",
   "metadata": {},
   "outputs": [],
   "source": [
    "from sklearn.preprocessing import OneHotEncoder\n",
    "\n",
    "onehot_genre = OneHotEncoder(handle_unknown = 'ignore') ## intitalizing the encoders\n",
    "onehot_key = OneHotEncoder(handle_unknown = 'ignore')\n",
    "onehot_mode = OneHotEncoder(handle_unknown = 'ignore')\n",
    "onehot_time = OneHotEncoder(handle_unknown = 'ignore')\n",
    "\n",
    "## reshape(-1, 1) = choose any dimension with 1 column\n",
    "## extracting the features with string values \n",
    "genre_list = np.array(data['genre']).reshape(-1, 1)\n",
    "key_list = np.array(data['key']).reshape(-1, 1)\n",
    "mode_list = np.array(data['mode']).reshape(-1, 1)\n",
    "time_list = np.array(data['time_signature']).reshape(-1, 1)\n",
    "\n",
    "onehot_genre.fit(genre_list) ## fitting the data to the encoder\n",
    "genre_category = onehot_genre.categories_ ## takes out the distinct categories into an array\n",
    "encoded_genre = onehot_genre.transform(genre_list).toarray() ## transforming the genre data into a matrix using one hot encoding\n",
    "# genre_category\n",
    "\n",
    "onehot_key.fit(key_list) \n",
    "key_category = onehot_key.categories_ \n",
    "encoded_key = onehot_key.transform(key_list).toarray() \n",
    "\n",
    "onehot_mode.fit(mode_list) \n",
    "mode_category = onehot_mode.categories_ \n",
    "encoded_mode = onehot_mode.transform(mode_list).toarray() \n",
    "\n",
    "onehot_time.fit(time_list) \n",
    "time_category = onehot_time.categories_ \n",
    "encoded_time = onehot_time.transform(time_list).toarray() \n"
   ]
  },
  {
   "cell_type": "markdown",
   "id": "roman-cycle",
   "metadata": {},
   "source": [
    "#### One hot encoding has been done, so the original columns are dropped"
   ]
  },
  {
   "cell_type": "code",
   "execution_count": 11,
   "id": "private-ranch",
   "metadata": {},
   "outputs": [],
   "source": [
    "data = data.drop(\"genre\", axis = 1)\n",
    "data = data.drop(\"key\", axis = 1)\n",
    "data = data.drop(\"mode\", axis = 1)\n",
    "data = data.drop(\"time_signature\", axis = 1)"
   ]
  },
  {
   "cell_type": "markdown",
   "id": "demonstrated-image",
   "metadata": {},
   "source": [
    "#### Encoded columns have to be added now using the encode_add method"
   ]
  },
  {
   "cell_type": "code",
   "execution_count": 12,
   "id": "illegal-texas",
   "metadata": {},
   "outputs": [],
   "source": [
    "encode_add(encoded_genre, genre_category)\n",
    "encode_add(encoded_key, key_category)\n",
    "encode_add(encoded_mode, mode_category)\n",
    "encode_add(encoded_time, time_category)"
   ]
  },
  {
   "cell_type": "markdown",
   "id": "colonial-cruise",
   "metadata": {},
   "source": [
    "#### Prep the data to be used by the neural net"
   ]
  },
  {
   "cell_type": "code",
   "execution_count": 13,
   "id": "macro-brooks",
   "metadata": {},
   "outputs": [],
   "source": [
    "\n",
    "import tensorflow_datasets as tfds\n",
    "from sklearn.model_selection import train_test_split\n",
    "\n",
    "#adding all the labels that can be useful for the dataset\n",
    "X_data = data[['acousticness', 'danceability','duration_ms', 'energy', 'instrumentalness', 'liveness', 'loudness','speechiness', \n",
    "             'tempo', 'valence', 'A Capella', 'Alternative', 'Anime','Blues', \"Children's Music\",  \n",
    "             'Classical', 'Country','Dance', 'Electronic', 'Folk', 'Hip-Hop', 'Indie', 'Jazz', 'Opera','Pop', 'R&B', 'Rap', \n",
    "             'Reggae', 'Reggaeton', 'Rock', 'Ska', 'Soul', 'World', 'A', 'A#', 'B', 'C', 'C#', 'D', 'D#', 'E', 'F', 'F#', 'G',\n",
    "       'G#','Major', 'Minor']].values\n",
    "\n",
    "#target variable\n",
    "y_data = data['energy'].values\n",
    "\n",
    "#normalizing the data using min-max normalization\n",
    "X_data = (X_data - np.min(X_data, axis = 0)) / (np.max(X_data, axis = 0) - np.min(X_data, axis = 0))\n",
    "\n",
    "#splitting the dataset into training, validation and testing data\n",
    "X_train, X_rest, y_train, y_rest = train_test_split(X_data, y_data, test_size = 0.2, random_state = 2)\n",
    "X_val, X_test, y_val, y_test = train_test_split(X_rest, y_rest, test_size = 0.2, random_state = 2)"
   ]
  },
  {
   "cell_type": "markdown",
   "id": "active-noise",
   "metadata": {},
   "source": [
    "#### building the seqential model"
   ]
  },
  {
   "cell_type": "code",
   "execution_count": 14,
   "id": "architectural-intervention",
   "metadata": {},
   "outputs": [
    {
     "data": {
      "text/plain": [
       "(205592, 47)"
      ]
     },
     "execution_count": 14,
     "metadata": {},
     "output_type": "execute_result"
    }
   ],
   "source": [
    "X_data.shape ## no. of input states the net will have"
   ]
  },
  {
   "cell_type": "code",
   "execution_count": 15,
   "id": "underlying-budapest",
   "metadata": {},
   "outputs": [],
   "source": [
    "from tensorflow import keras\n",
    "from keras import layers\n",
    "\n",
    "def buildNet():\n",
    "    model = keras.Sequential([\n",
    "        layers.Dense(units = 256, input_shape = [47], activation = 'relu'), ## 256 nodes in the 1st layer\n",
    "        layers.BatchNormalization(),  ## adding normalization after each layer\n",
    "        layers.Dense(units = 50, activation = 'relu'),  ## 50 nodes for 2nd layer\n",
    "        layers.BatchNormalization(),\n",
    "        layers.Dense(units = 1, activation = 'relu')  ## output layer\n",
    "    ])\n",
    "    return model"
   ]
  },
  {
   "cell_type": "markdown",
   "id": "reduced-purse",
   "metadata": {},
   "source": [
    "#### Training the model with X_train"
   ]
  },
  {
   "cell_type": "code",
   "execution_count": 19,
   "id": "educated-masters",
   "metadata": {},
   "outputs": [
    {
     "name": "stdout",
     "output_type": "stream",
     "text": [
      "Epoch 1/10\n",
      "5140/5140 [==============================] - 28s 5ms/step - loss: 0.0141 - accuracy: 0.0000e+00 - val_loss: 8.4966e-04 - val_accuracy: 0.0000e+00\n",
      "Epoch 2/10\n",
      "5140/5140 [==============================] - 26s 5ms/step - loss: 0.0027 - accuracy: 0.0000e+00 - val_loss: 3.0905e-04 - val_accuracy: 0.0000e+00\n",
      "Epoch 3/10\n",
      "5140/5140 [==============================] - 26s 5ms/step - loss: 0.0025 - accuracy: 0.0000e+00 - val_loss: 1.8975e-04 - val_accuracy: 0.0000e+00\n",
      "Epoch 4/10\n",
      "5140/5140 [==============================] - 26s 5ms/step - loss: 0.0025 - accuracy: 0.0000e+00 - val_loss: 7.6509e-05 - val_accuracy: 0.0000e+00\n",
      "Epoch 5/10\n",
      "5140/5140 [==============================] - 26s 5ms/step - loss: 0.0023 - accuracy: 0.0000e+00 - val_loss: 1.3487e-04 - val_accuracy: 0.0000e+00\n",
      "Epoch 6/10\n",
      "5140/5140 [==============================] - 26s 5ms/step - loss: 0.0024 - accuracy: 0.0000e+00 - val_loss: 3.8504e-04 - val_accuracy: 0.0000e+00\n",
      "Epoch 7/10\n",
      "5140/5140 [==============================] - 26s 5ms/step - loss: 0.0023 - accuracy: 0.0000e+00 - val_loss: 1.8709e-04 - val_accuracy: 0.0000e+00\n",
      "Epoch 8/10\n",
      "5140/5140 [==============================] - 26s 5ms/step - loss: 0.0023 - accuracy: 0.0000e+00 - val_loss: 5.6260e-05 - val_accuracy: 0.0000e+00\n",
      "Epoch 9/10\n",
      "5140/5140 [==============================] - 26s 5ms/step - loss: 0.0022 - accuracy: 0.0000e+00 - val_loss: 7.8082e-05 - val_accuracy: 0.0000e+00\n",
      "Epoch 10/10\n",
      "5140/5140 [==============================] - 26s 5ms/step - loss: 0.0022 - accuracy: 0.0000e+00 - val_loss: 4.2470e-05 - val_accuracy: 0.0000e+00\n"
     ]
    }
   ],
   "source": [
    "# from kras.optimizers import Adam\n",
    "\n",
    "model = buildNet()\n",
    "model.compile(optimizer = 'adam', loss = 'mse', metrics = ['accuracy'] )  ## used mse because validation does not do well with mae\n",
    "\n",
    "history = model.fit(X_train, y_train, validation_data = (X_val, y_val), epochs = 10)"
   ]
  },
  {
   "cell_type": "code",
   "execution_count": 20,
   "id": "limiting-messaging",
   "metadata": {},
   "outputs": [
    {
     "data": {
      "image/png": "[encoded data removed]",
      "text/plain": [
       "<Figure size 432x288 with 1 Axes>"
      ]
     },
     "metadata": {
      "needs_background": "light"
     },
     "output_type": "display_data"
    }
   ],
   "source": [
    "plt.plot(history.history['loss'])\n",
    "plt.plot(history.history['val_loss'])\n",
    "plt.title('model loss')\n",
    "plt.ylabel('loss')\n",
    "plt.xlabel('epoch')\n",
    "plt.legend(['train', 'val'], loc='upper left')\n",
    "plt.show()"
   ]
  },
  {
   "cell_type": "markdown",
   "id": "median-focus",
   "metadata": {},
   "source": [
    "#### the model does pretty well when using mse instead of mae and without the batch size."
   ]
  },
  {
   "cell_type": "code",
   "execution_count": 27,
   "id": "patient-uganda",
   "metadata": {},
   "outputs": [
    {
     "data": {
      "image/png": "[encoded data removed]",
      "text/plain": [
       "<Figure size 432x288 with 1 Axes>"
      ]
     },
     "metadata": {
      "needs_background": "light"
     },
     "output_type": "display_data"
    }
   ],
   "source": [
    "\n",
    "plt.scatter(y_test, model.predict(X_test))\n",
    "#This line represents x=y which makes sense as that would mean that x (the projected popularity score)\n",
    "#is equal to y (the actual popularity score). \n",
    "plt.plot([0,50], [0,50])\n",
    "plt.title(\"Accuracy of Prediction Model (All Genres)\", fontsize = 16)\n",
    "plt.xlabel(\"Actual Energy score\", fontsize = 14)\n",
    "plt.ylabel(\"Projected Energy Score\", fontsize = 14)\n",
    "plt.xticks(fontsize = 12)\n",
    "plt.yticks(fontsize = 12)\n",
    "plt.xlim([0, 1.5])\n",
    "plt.ylim([0, 1.5])\n",
    "plt.show()"
   ]
  },
  {
   "cell_type": "markdown",
   "id": "hired-duration",
   "metadata": {},
   "source": [
    "#### After the model is trained, it is tested using X_test. The error is calculated as the abs difference between real and predictd values and the mean and median is printed"
   ]
  },
  {
   "cell_type": "code",
   "execution_count": 30,
   "id": "assured-passport",
   "metadata": {},
   "outputs": [
    {
     "name": "stdout",
     "output_type": "stream",
     "text": [
      "Mean =  0.0048715846820152455\n",
      "Median =  0.0037612823247909766\n"
     ]
    }
   ],
   "source": [
    "import random\n",
    "import statistics \n",
    "\n",
    "errors = []\n",
    "predictions = model.predict(X_test)\n",
    "real = y_test\n",
    "\n",
    "for i in range(0, len(predictions)):\n",
    "  error = abs(predictions[i][0] - real[i])\n",
    "  errors.append(error)\n",
    "\n",
    "print(\"Mean = \",statistics.mean(errors))\n",
    "print(\"Median = \", statistics.median(errors))"
   ]
  }
 ],
 "metadata": {
  "kernelspec": {
   "display_name": "Python 3",
   "language": "python",
   "name": "python3"
  },
  "language_info": {
   "codemirror_mode": {
    "name": "ipython",
    "version": 3
   },
   "file_extension": ".py",
   "mimetype": "text/x-python",
   "name": "python",
   "nbconvert_exporter": "python",
   "pygments_lexer": "ipython3",
   "version": "3.9.1"
  }
 },
 "nbformat": 4,
 "nbformat_minor": 5
}
